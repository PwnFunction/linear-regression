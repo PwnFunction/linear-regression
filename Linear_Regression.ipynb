{
  "cells": [
    {
      "cell_type": "markdown",
      "metadata": {
        "id": "B2NbO7rNZ8ts"
      },
      "source": [
        "## Create dataset"
      ]
    },
    {
      "cell_type": "markdown",
      "metadata": {
        "id": "8trqoVP872ur"
      },
      "source": [
        "Create a function to represent a line."
      ]
    },
    {
      "cell_type": "code",
      "execution_count": 16,
      "metadata": {
        "id": "yGw7SqmJaAVS"
      },
      "outputs": [],
      "source": [
        "def line(m, b, x) -> float:\n",
        "  \"\"\"\n",
        "  Equation for the line is given by\n",
        "  y = mx + b\n",
        "  \"\"\"\n",
        "  return m * x + b"
      ]
    },
    {
      "cell_type": "markdown",
      "metadata": {
        "id": "lMnW5F9_78uz"
      },
      "source": [
        "Downscale linear dataset"
      ]
    },
    {
      "cell_type": "code",
      "execution_count": 17,
      "metadata": {
        "colab": {
          "base_uri": "https://localhost:8080/"
        },
        "id": "NBefQM9JazEG",
        "outputId": "b37b4495-8102-4a51-d14a-9e261092571f"
      },
      "outputs": [
        {
          "data": {
            "text/plain": [
              "([0.5, 1.0, 1.5, 2.0, 2.5, 3.0, 3.5, 4.0, 4.5, 5.0],\n",
              " [2.25, 4.3, 5.65, 7.79, 11.05, 11.6, 15.25, 15.89, 18.240000000000002, 19.8])"
            ]
          },
          "execution_count": 17,
          "metadata": {},
          "output_type": "execute_result"
        }
      ],
      "source": [
        "X, Y = list(zip(*[\n",
        "    (500, 2250),\n",
        "    (1000, 4300),\n",
        "    (1500, 5650),\n",
        "    (2000, 7790),\n",
        "    (2500, 11050),\n",
        "    (3000, 11600),\n",
        "    (3500, 15250),\n",
        "    (4000, 15890),\n",
        "    (4500, 18240),\n",
        "    (5000, 19800),\n",
        "]))\n",
        "\n",
        "downscale_factor = 0.001\n",
        "X = [x * downscale_factor for x in X]\n",
        "Y = [y * downscale_factor for y in Y]\n",
        "\n",
        "X[:10], Y[:10]"
      ]
    },
    {
      "cell_type": "markdown",
      "metadata": {
        "id": "CjUlCUgUc9ZD"
      },
      "source": [
        "## Plot the dataset"
      ]
    },
    {
      "cell_type": "code",
      "execution_count": 18,
      "metadata": {
        "colab": {
          "base_uri": "https://localhost:8080/",
          "height": 472
        },
        "id": "DCBbPkUsb0mo",
        "outputId": "69b7f8f6-2691-4933-84c1-fbf40cbbf78e"
      },
      "outputs": [
        {
          "data": {
            "image/png": "[encoded data removed]",
            "text/plain": [
              "<Figure size 640x480 with 1 Axes>"
            ]
          },
          "metadata": {},
          "output_type": "display_data"
        }
      ],
      "source": [
        "import matplotlib.pyplot as plt\n",
        "\n",
        "# Scatter plot for points\n",
        "plt.scatter(X, Y)\n",
        "\n",
        "# Labels\n",
        "plt.xlabel('X')\n",
        "plt.ylabel('Y')\n",
        "plt.title('Plot of Points')\n",
        "\n",
        "# Show the plot\n",
        "plt.show()"
      ]
    },
    {
      "cell_type": "markdown",
      "metadata": {
        "id": "5jUvoRXidnuy"
      },
      "source": [
        "## Find Mean Squared Error"
      ]
    },
    {
      "cell_type": "markdown",
      "metadata": {
        "id": "DuTmzQ8r9OAL"
      },
      "source": [
        "Function to calculate mean squared error of n-points (x, y)."
      ]
    },
    {
      "cell_type": "code",
      "execution_count": 20,
      "metadata": {
        "colab": {
          "base_uri": "https://localhost:8080/"
        },
        "id": "coF-pdPLd3gJ",
        "outputId": "8fc2b6a7-3e11-4bf3-f1c4-02edfcc73887"
      },
      "outputs": [
        {
          "data": {
            "text/plain": [
              "74.03838000000002"
            ]
          },
          "execution_count": 20,
          "metadata": {},
          "output_type": "execute_result"
        }
      ],
      "source": [
        "def MSE(m, b, X, Y):\n",
        "  \"\"\"\n",
        "  mse = 1/n Σ(y' - y)^2\n",
        "  \"\"\"\n",
        "\n",
        "  mse = 0\n",
        "  for point in zip(X, Y):\n",
        "    x, y = point\n",
        "    e = y - line(m, b, x)\n",
        "    mse += e**2\n",
        "\n",
        "  # mse = mse/n\n",
        "  return mse\n",
        "\n",
        "# initialise\n",
        "MSE(m=1, b=1, X=X, Y=Y)/len(X)"
      ]
    },
    {
      "cell_type": "markdown",
      "metadata": {
        "id": "HFPxyWp5kt2P"
      },
      "source": [
        "## Minimize MSE"
      ]
    },
    {
      "cell_type": "markdown",
      "metadata": {
        "id": "q9eP4a-V9g4l"
      },
      "source": [
        "Directly minimize MSE using partial derivatives."
      ]
    },
    {
      "cell_type": "code",
      "execution_count": 21,
      "metadata": {
        "colab": {
          "base_uri": "https://localhost:8080/"
        },
        "id": "HQHVnbV4fZDX",
        "outputId": "57538f5e-b32b-47f1-f816-1e96e2c03ed8"
      },
      "outputs": [
        {
          "name": "stdout",
          "output_type": "stream",
          "text": [
            "3.987299157112894 0.222744931620763\n"
          ]
        }
      ],
      "source": [
        "\"\"\"\n",
        "mse = 1/n * Σ(y' - (m * x + b))^2\n",
        "\n",
        "∂e/∂m = 1/n * Σ 2 * (y' - (m * x + b)) (-x)\n",
        "∂e/∂m = -2/n * Σx(y' - (m * x) - b))\n",
        "\n",
        "∂e/∂b = 2/n * Σ(y' - (m * x + b)) (-1)\n",
        "∂e/∂b = -2/n * Σ(y' - (m * x) - b))\n",
        "\"\"\"\n",
        "\n",
        "learning_rate = 0.01\n",
        "iterations = 1000\n",
        "\n",
        "# initialise m and b\n",
        "m, b = 1,1\n",
        "\n",
        "n = len(X)\n",
        "\n",
        "for _ in range(iterations):\n",
        "  # ∂e/∂m\n",
        "  # =====\n",
        "  # Z = Σx(y' - (m * x) - b))\n",
        "  Z = 0\n",
        "  for point in range(n):\n",
        "    Z += (Y[point] - (m * X[point]) - b) * X[point]\n",
        "  dedm = -2/n * Z\n",
        "\n",
        "  # ∂e/∂b\n",
        "  # =====\n",
        "  # Z = Σ(y' - (m * x) - b))\n",
        "  Z = 0\n",
        "  for point in range(n):\n",
        "    Z += Y[point] - (m * X[point]) - b\n",
        "  dedb = -2/n * Z\n",
        "\n",
        "  # adjust m & b based on learning rates\n",
        "  m = m - learning_rate * dedm\n",
        "  b = b - learning_rate * dedb\n",
        "\n",
        "print(m, b)"
      ]
    },
    {
      "cell_type": "markdown",
      "metadata": {
        "id": "9ZFN7E4Bse0W"
      },
      "source": [
        "## Visualise the fit"
      ]
    },
    {
      "cell_type": "code",
      "execution_count": 22,
      "metadata": {
        "colab": {
          "base_uri": "https://localhost:8080/",
          "height": 472
        },
        "id": "pO_uZcR_rhyq",
        "outputId": "e5729b2f-b601-4b55-9523-4a3233018dc0"
      },
      "outputs": [
        {
          "data": {
            "image/png": "[encoded data removed]",
            "text/plain": [
              "<Figure size 640x480 with 1 Axes>"
            ]
          },
          "metadata": {},
          "output_type": "display_data"
        }
      ],
      "source": [
        "plt.scatter(X, Y)\n",
        "\n",
        "plt.xlabel('X')\n",
        "plt.ylabel('Y')\n",
        "plt.title('Plot of Points')\n",
        "\n",
        "line_x = [0, 20]\n",
        "line_y = [line(m, b, 0), line(m, b, 20)]\n",
        "plt.plot(line_x, line_y, color='red')\n",
        "\n",
        "plt.show()"
      ]
    },
    {
      "cell_type": "code",
      "execution_count": 23,
      "metadata": {
        "colab": {
          "base_uri": "https://localhost:8080/"
        },
        "id": "gHO5Bq6BtIlL",
        "outputId": "221e37f6-9878-4eb5-c6a9-da8edf0541d4"
      },
      "outputs": [
        {
          "data": {
            "text/plain": [
              "12769.401391494921"
            ]
          },
          "execution_count": 23,
          "metadata": {},
          "output_type": "execute_result"
        }
      ],
      "source": [
        "# predict, amount_spent_on_ads = $4200\n",
        "amount_spent_on_ads = 4200\n",
        "\n",
        "revenue = line(m, b, amount_spent_on_ads * downscale_factor) / downscale_factor\n",
        "\n",
        "# Profits\n",
        "revenue - amount_spent_on_ads"
      ]
    }
  ],
  "metadata": {
    "colab": {
      "collapsed_sections": [
        "CjUlCUgUc9ZD"
      ],
      "provenance": []
    },
    "kernelspec": {
      "display_name": "Python 3",
      "name": "python3"
    },
    "language_info": {
      "name": "python"
    }
  },
  "nbformat": 4,
  "nbformat_minor": 0
}
